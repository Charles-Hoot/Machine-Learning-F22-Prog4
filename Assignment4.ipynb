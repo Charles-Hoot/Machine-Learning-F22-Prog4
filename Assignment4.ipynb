{
 "cells": [
  {
   "cell_type": "markdown",
   "metadata": {},
   "source": [
    "##### Assignment 4 - Linear Regression"
   ]
  },
  {
   "cell_type": "markdown",
   "metadata": {},
   "source": [
    "## Part 1 - Read your data frame.\n",
    "The CSV file is \"BB_stats_2000.csv\" and contains data for the 2000-2001 season. \n",
    "\n",
    "* Read it in.  Do a head with the first 10 instances\n",
    "* Display the keys"
   ]
  },
  {
   "cell_type": "code",
   "execution_count": 3,
   "metadata": {},
   "outputs": [
    {
     "data": {
      "text/plain": [
       "Index(['player_name', 'salary', 'team_abbreviation', 'age', 'player_height',\n",
       "       'player_weight', 'country', 'draft_year', 'draft_round', 'draft_number',\n",
       "       'games_played', 'pts', 'reb', 'ast', 'offensive_reb_pct',\n",
       "       'defensive_reb_pct', 'usage_pct', 'true_shooting_pct', 'assist_pct'],\n",
       "      dtype='object')"
      ]
     },
     "execution_count": 3,
     "metadata": {},
     "output_type": "execute_result"
    }
   ],
   "source": [
    "import pandas as pd\n",
    "\n",
    "\n",
    "data_frame = pd.read_csv(\"BB_stats_2000.csv\")\n",
    "data_frame.head()\n",
    "\n",
    "\n",
    "\n",
    "data_frame.head(n=20)\n",
    "#data_frame.hist(bins=20)\n",
    "data_frame.keys()\n",
    "\n",
    "\n"
   ]
  },
  {
   "cell_type": "markdown",
   "metadata": {},
   "source": [
    "## Part 2 - Display info\n",
    "Take a look at the information.  Note any features that are missing values.  Note any features that are objects, but could be numerical"
   ]
  },
  {
   "cell_type": "code",
   "execution_count": null,
   "metadata": {},
   "outputs": [],
   "source": [
    "# Your code here"
   ]
  },
  {
   "cell_type": "markdown",
   "metadata": {},
   "source": [
    "### _Notes_\n",
    "(Your notes here)"
   ]
  },
  {
   "cell_type": "markdown",
   "metadata": {},
   "source": [
    "## Part 3a - Remove columns (features)\n",
    "Do we need to remove any features due to many missing values?"
   ]
  },
  {
   "cell_type": "code",
   "execution_count": null,
   "metadata": {},
   "outputs": [],
   "source": [
    "# Your code here"
   ]
  },
  {
   "cell_type": "markdown",
   "metadata": {},
   "source": [
    "## Part 3b - Remove rows (data instances)\n",
    "Refer to data_cleaning in the DataFrames directory\n",
    "\n",
    "For now, go ahead and remove any instance that is missing any data value."
   ]
  },
  {
   "cell_type": "code",
   "execution_count": null,
   "metadata": {},
   "outputs": [],
   "source": [
    "# Your code here"
   ]
  },
  {
   "cell_type": "markdown",
   "metadata": {},
   "source": [
    "#### Part 3c - Fix up draft values\n",
    "Some of the players were not drafted and we would like to replace undrafted with an appropriate value.\n",
    "* Create 3 functions that can be applied and will replace the value.\n",
    "* For draft year assume that they have been around for no more than 2 years - replace by 1998\n",
    "* For draft round it has mostly been a 2 round affair - replace by 3\n",
    "* For draft position we can use a value outside of the 2 rounds - replace by 55\n",
    "* Apply the functions"
   ]
  },
  {
   "cell_type": "code",
   "execution_count": null,
   "metadata": {},
   "outputs": [],
   "source": [
    "# Your code here"
   ]
  },
  {
   "cell_type": "markdown",
   "metadata": {},
   "source": [
    "## Part 4 - Split the data frame\n",
    "\n",
    "Use the train_test_split() function to split the data set into training(75%) and test(25%) sets. "
   ]
  },
  {
   "cell_type": "code",
   "execution_count": null,
   "metadata": {},
   "outputs": [],
   "source": [
    "# Your code here"
   ]
  },
  {
   "cell_type": "markdown",
   "metadata": {},
   "source": [
    "## Part 5 - Do some scatter plots with points, rebounds, and salary\n",
    "Take a look at \"pts\", \"reb\", and \"salary\" with the scatter_matrix"
   ]
  },
  {
   "cell_type": "code",
   "execution_count": null,
   "metadata": {},
   "outputs": [],
   "source": [
    "# Your code here"
   ]
  },
  {
   "cell_type": "markdown",
   "metadata": {},
   "source": [
    "## Part 6 - Linear Regression\n",
    "1. Pull out \"pts\" for the X and \"salary\" for y. \n",
    "2. Fit the data.\n",
    "3. Show R2 and Mean Square Error\n",
    "4. Discuss the results"
   ]
  },
  {
   "cell_type": "code",
   "execution_count": null,
   "metadata": {},
   "outputs": [],
   "source": [
    "# Your code here"
   ]
  },
  {
   "cell_type": "markdown",
   "metadata": {},
   "source": [
    "Discussion: "
   ]
  },
  {
   "cell_type": "markdown",
   "metadata": {},
   "source": [
    "## Part 7 - Add features to the Model\n",
    "1. Pick up to 3 other features that you think might improve the model and use them for X.\n",
    "2. Fit the data\n",
    "3. Show the scores\n",
    "4. Discuss the results"
   ]
  },
  {
   "cell_type": "code",
   "execution_count": null,
   "metadata": {},
   "outputs": [],
   "source": [
    "# Your code here"
   ]
  },
  {
   "cell_type": "markdown",
   "metadata": {},
   "source": [
    "Discussion: "
   ]
  },
  {
   "cell_type": "markdown",
   "metadata": {},
   "source": [
    "## Part 8 - Test Set time\n",
    "Evaluate the model for r2 and mean square error on the test set and discuss your results in comparison to part 7."
   ]
  },
  {
   "cell_type": "code",
   "execution_count": null,
   "metadata": {},
   "outputs": [],
   "source": [
    "# Your code here"
   ]
  },
  {
   "cell_type": "markdown",
   "metadata": {},
   "source": [
    "Discussion:"
   ]
  },
  {
   "cell_type": "markdown",
   "metadata": {},
   "source": [
    "# Bonus options\n",
    "For each of the options, redo your regression using the new features, report the results and discuss.\n"
   ]
  },
  {
   "cell_type": "markdown",
   "metadata": {},
   "source": [
    "1. Look for a better set of features to predict salary."
   ]
  },
  {
   "cell_type": "code",
   "execution_count": null,
   "metadata": {},
   "outputs": [],
   "source": []
  }
 ],
 "metadata": {
  "kernelspec": {
   "display_name": "Python 3",
   "language": "python",
   "name": "python3"
  },
  "language_info": {
   "codemirror_mode": {
    "name": "ipython",
    "version": 3
   },
   "file_extension": ".py",
   "mimetype": "text/x-python",
   "name": "python",
   "nbconvert_exporter": "python",
   "pygments_lexer": "ipython3",
   "version": "3.9.0"
  }
 },
 "nbformat": 4,
 "nbformat_minor": 4
}
